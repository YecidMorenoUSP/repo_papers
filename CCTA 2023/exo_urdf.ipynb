{
 "cells": [
  {
   "cell_type": "code",
   "execution_count": 159,
   "metadata": {},
   "outputs": [
    {
     "name": "stdout",
     "output_type": "stream",
     "text": [
      "model name: EXO_TAO\n",
      "q: [0 0]\n",
      "universe                 :  0.00  0.00  0.00\n",
      "r_bar                    :  0.00  0.00  0.84\n",
      "r_knee                   :  0.24 -0.00  0.42\n"
     ]
    }
   ],
   "source": [
    "import pinocchio as pin\n",
    "import numpy as np\n",
    "\n",
    "urdf_filename = \"Exo/description.urdf\"\n",
    "model    = pin.buildModelFromUrdf(urdf_filename)\n",
    "\n",
    "print('model name: ' + model.name)\n",
    " \n",
    "# Create data required by the algorithms\n",
    "data     = model.createData()\n",
    " \n",
    "# Sample a random configuration\n",
    "q        = pin.randomConfiguration(model)\n",
    "# q        = np.array([0.1,0.2])\n",
    "vq        = np.array([0,0])\n",
    "print('q: %s' % q.T)\n",
    " \n",
    "# Perform the forward kinematics over the kinematic tree\n",
    "pin.forwardKinematics(model,data,q)\n",
    "\n",
    "\n",
    "\n",
    "# Print out the placement of each joint of the kinematic tree\n",
    "for name, oMi in zip(model.names, data.oMi):\n",
    "    print((\"{:<24} : {: .2f} {: .2f} {: .2f}\"\n",
    "          .format( name, *oMi.translation.T.flat )))"
   ]
  },
  {
   "cell_type": "code",
   "execution_count": 160,
   "metadata": {},
   "outputs": [
    {
     "data": {
      "text/plain": [
       "[  R =\n",
       " 1 0 0\n",
       " 0 1 0\n",
       " 0 0 1\n",
       "   p = 0 0 0,\n",
       "   R =\n",
       "           1           0           0\n",
       "           0   -0.999999 -0.00159265\n",
       "           0  0.00159265   -0.999999\n",
       "   p =    0    0 0.84,\n",
       "   R =\n",
       "           1           0           0\n",
       "           0   -0.999999 -0.00159265\n",
       "           0  0.00159265   -0.999999\n",
       "   p =        0.235 -0.000668914     0.420001]"
      ]
     },
     "execution_count": 160,
     "metadata": {},
     "output_type": "execute_result"
    }
   ],
   "source": [
    "data.oMi.tolist()"
   ]
  },
  {
   "cell_type": "code",
   "execution_count": 155,
   "metadata": {},
   "outputs": [
    {
     "name": "stdout",
     "output_type": "stream",
     "text": [
      "[[0.3764 0.1   ]\n",
      " [0.1    0.1   ]]\n",
      "[[ 0.          0.        ]\n",
      " [ 0.36255658  0.        ]\n",
      " [-0.21202058  0.        ]\n",
      " [ 0.2882      0.1       ]\n",
      " [-0.11350984 -0.00161817]\n",
      " [-0.13465361 -0.1414121 ]]\n",
      "[[ 0.         -0.        ]\n",
      " [ 0.84        0.47744342]\n",
      " [ 0.          0.21202058]\n",
      " [ 1.          1.        ]\n",
      " [ 0.          0.        ]\n",
      " [ 0.          0.        ]]\n"
     ]
    }
   ],
   "source": [
    "# pin.crba(model,data,q)\n",
    "# pin.computeJointJacobians(model,data)\n",
    "pin.computeAllTerms(model,data,q,vq)\n",
    "\n",
    "print(data.M)\n",
    "print(data.Ag)\n",
    "print(data.J)\n",
    "\n"
   ]
  }
 ],
 "metadata": {
  "kernelspec": {
   "display_name": "Python 3.10.6 ('env_robot')",
   "language": "python",
   "name": "python3"
  },
  "language_info": {
   "codemirror_mode": {
    "name": "ipython",
    "version": 3
   },
   "file_extension": ".py",
   "mimetype": "text/x-python",
   "name": "python",
   "nbconvert_exporter": "python",
   "pygments_lexer": "ipython3",
   "version": "3.10.6"
  },
  "orig_nbformat": 4,
  "vscode": {
   "interpreter": {
    "hash": "40b974603b1ff0f565499a6dc1829967c96b73c5a0c12b592db40a3c31e8ed61"
   }
  }
 },
 "nbformat": 4,
 "nbformat_minor": 2
}
