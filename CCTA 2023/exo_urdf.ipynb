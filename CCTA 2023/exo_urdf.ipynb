{
 "cells": [
  {
   "cell_type": "code",
   "execution_count": 86,
   "metadata": {},
   "outputs": [
    {
     "name": "stdout",
     "output_type": "stream",
     "text": [
      "model name: EXO_TAO\n"
     ]
    }
   ],
   "source": [
    "import pinocchio as pin\n",
    "import numpy as np\n",
    "\n",
    "robot = pin.RobotWrapper()\n",
    "robot.initFromURDF(\"Exo/description_v1.urdf\")\n",
    "\n",
    "print('model name: ' + robot.model.name)\n",
    " \n",
    "# Sample a random configuration\n",
    "q        = pin.randomConfiguration(robot.model)\n",
    "vq        = pin.randomConfiguration(robot.model)\n",
    "aq0 = pin.randomConfiguration(robot.model)\n",
    "\n",
    "robot.forwardKinematics(q)"
   ]
  },
  {
   "cell_type": "code",
   "execution_count": 98,
   "metadata": {},
   "outputs": [
    {
     "name": "stdout",
     "output_type": "stream",
     "text": [
      "[[0.3764 0.1    0.     0.    ]\n",
      " [0.1    0.1    0.     0.    ]\n",
      " [0.     0.     0.3764 0.1   ]\n",
      " [0.     0.     0.1    0.1   ]]\n",
      "[[ -3.61794501   3.61794501  -0.          -0.        ]\n",
      " [  3.61794501 -13.61794501  -0.          -0.        ]\n",
      " [ -0.          -0.          -3.61794501   3.61794501]\n",
      " [ -0.          -0.           3.61794501 -13.61794501]]\n",
      "[[0. 0. 0. 0.]\n",
      " [0. 0. 0. 0.]\n",
      " [0. 0. 0. 0.]\n",
      " [0. 0. 0. 0.]]\n"
     ]
    }
   ],
   "source": [
    "robot.nle(q,vq)\n",
    "robot.mass(q)\n",
    "robot.computeJointJacobians(q)\n",
    "\n",
    "\n",
    "\n",
    "# print(\"M: \")\n",
    "# print(data.M)\n",
    "\n",
    "# print(\"Aq: \")\n",
    "# print(data.Ag)\n",
    "\n",
    "# print(\"J: \")\n",
    "# print(data.J)\n",
    "\n",
    "# print(\"G: \")\n",
    "# print(data.g)\n",
    "\n",
    "\n",
    "print( robot.data.M )\n",
    "print( -np.linalg.inv(robot.data.M) )\n",
    "print(robot.data.C)\n"
   ]
  },
  {
   "cell_type": "code",
   "execution_count": 103,
   "metadata": {},
   "outputs": [
    {
     "name": "stderr",
     "output_type": "stream",
     "text": [
      "/tmp/ipykernel_4418/1210759568.py:8: UserWarning: Error while importing the viewer client.\n",
      "Check whether gepetto-gui is properly installed\n",
      "  viz.initViewer()\n",
      "/tmp/ipykernel_4418/1210759568.py:8: UserWarning: Error while starting the viewer client.\n",
      "Check whether gepetto-viewer is properly started\n",
      "  viz.initViewer()\n"
     ]
    }
   ],
   "source": [
    "import sys\n",
    "import os\n",
    "\n",
    "from pinocchio.visualize import GepettoVisualizer\n",
    "viz = GepettoVisualizer(robot.model)\n",
    "\n",
    "try:\n",
    "    viz.initViewer()\n",
    "except ImportError as err:\n",
    "    print(\"Error while initializing the viewer. It seems you should install gepetto-viewer\")\n",
    "    print(err)\n",
    "    sys.exit(0)"
   ]
  },
  {
   "cell_type": "code",
   "execution_count": 170,
   "metadata": {},
   "outputs": [
    {
     "name": "stderr",
     "output_type": "stream",
     "text": [
      "Xlib:  extension \"XFree86-DGA\" missing on display \":0\".\n"
     ]
    },
    {
     "ename": "ViewerClosedError",
     "evalue": "User closed the main window",
     "output_type": "error",
     "traceback": [
      "\u001b[0;31m---------------------------------------------------------------------------\u001b[0m",
      "\u001b[0;31mViewerClosedError\u001b[0m                         Traceback (most recent call last)",
      "Cell \u001b[0;32mIn [170], line 21\u001b[0m\n\u001b[1;32m     17\u001b[0m     traj[\u001b[39m3\u001b[39m][i] \u001b[39m=\u001b[39m np\u001b[39m.\u001b[39msin(\u001b[39m2\u001b[39m\u001b[39m*\u001b[39mnp\u001b[39m.\u001b[39mpi\u001b[39m*\u001b[39mt_cur\u001b[39m*\u001b[39m\u001b[39m2\u001b[39m)\n\u001b[1;32m     19\u001b[0m     \u001b[39m# robot.display(traj[:,i])\u001b[39;00m\n\u001b[0;32m---> 21\u001b[0m robot\u001b[39m.\u001b[39;49mplay(traj[:,::\u001b[39m2\u001b[39;49m],\u001b[39m1\u001b[39;49m\u001b[39m/\u001b[39;49m\u001b[39m100\u001b[39;49m)\n",
      "File \u001b[0;32m~/Python/env_robot/lib/python3.10/site-packages/cmeel.prefix/lib/python3.10/site-packages/pinocchio/robot_wrapper.py:340\u001b[0m, in \u001b[0;36mRobotWrapper.play\u001b[0;34m(self, q_trajectory, dt)\u001b[0m\n\u001b[1;32m    338\u001b[0m \u001b[39mdef\u001b[39;00m \u001b[39mplay\u001b[39m(\u001b[39mself\u001b[39m, q_trajectory, dt):\n\u001b[1;32m    339\u001b[0m     \u001b[39m\"\"\"Play a trajectory with given time step\"\"\"\u001b[39;00m\n\u001b[0;32m--> 340\u001b[0m     \u001b[39mself\u001b[39;49m\u001b[39m.\u001b[39;49mviz\u001b[39m.\u001b[39;49mplay(q_trajectory, dt)\n",
      "File \u001b[0;32m~/Python/env_robot/lib/python3.10/site-packages/cmeel.prefix/lib/python3.10/site-packages/pinocchio/visualize/base_visualizer.py:90\u001b[0m, in \u001b[0;36mBaseVisualizer.play\u001b[0;34m(self, q_trajectory, dt, capture)\u001b[0m\n\u001b[1;32m     88\u001b[0m \u001b[39mfor\u001b[39;00m k \u001b[39min\u001b[39;00m \u001b[39mrange\u001b[39m(q_trajectory\u001b[39m.\u001b[39mshape[\u001b[39m1\u001b[39m]):\n\u001b[1;32m     89\u001b[0m     t0 \u001b[39m=\u001b[39m time\u001b[39m.\u001b[39mtime()\n\u001b[0;32m---> 90\u001b[0m     \u001b[39mself\u001b[39;49m\u001b[39m.\u001b[39;49mdisplay(q_trajectory[:, k])\n\u001b[1;32m     91\u001b[0m     \u001b[39mif\u001b[39;00m capture:\n\u001b[1;32m     92\u001b[0m         img_arr \u001b[39m=\u001b[39m \u001b[39mself\u001b[39m\u001b[39m.\u001b[39mcaptureImage()\n",
      "File \u001b[0;32m~/Python/env_robot/lib/python3.10/site-packages/cmeel.prefix/lib/python3.10/site-packages/pinocchio/visualize/panda3d_visualizer.py:106\u001b[0m, in \u001b[0;36mPanda3dVisualizer.display\u001b[0;34m(self, q)\u001b[0m\n\u001b[1;32m    103\u001b[0m     \u001b[39mself\u001b[39m\u001b[39m.\u001b[39mviewer\u001b[39m.\u001b[39mmove_nodes(group, name_pose_dict)\n\u001b[1;32m    105\u001b[0m \u001b[39mif\u001b[39;00m \u001b[39mself\u001b[39m\u001b[39m.\u001b[39mdisplay_visuals:\n\u001b[0;32m--> 106\u001b[0m     move(\u001b[39mself\u001b[39;49m\u001b[39m.\u001b[39;49mvisual_group, \u001b[39mself\u001b[39;49m\u001b[39m.\u001b[39;49mvisual_model, \u001b[39mself\u001b[39;49m\u001b[39m.\u001b[39;49mvisual_data)\n\u001b[1;32m    108\u001b[0m \u001b[39mif\u001b[39;00m \u001b[39mself\u001b[39m\u001b[39m.\u001b[39mdisplay_collisions:\n\u001b[1;32m    109\u001b[0m     move(\u001b[39mself\u001b[39m\u001b[39m.\u001b[39mcollision_group, \u001b[39mself\u001b[39m\u001b[39m.\u001b[39mcollision_model,\n\u001b[1;32m    110\u001b[0m          \u001b[39mself\u001b[39m\u001b[39m.\u001b[39mcollision_data)\n",
      "File \u001b[0;32m~/Python/env_robot/lib/python3.10/site-packages/cmeel.prefix/lib/python3.10/site-packages/pinocchio/visualize/panda3d_visualizer.py:103\u001b[0m, in \u001b[0;36mPanda3dVisualizer.display.<locals>.move\u001b[0;34m(group, model, data)\u001b[0m\n\u001b[1;32m    101\u001b[0m     x, y, z, qx, qy, qz, qw \u001b[39m=\u001b[39m pin\u001b[39m.\u001b[39mSE3ToXYZQUATtuple(oMg)\n\u001b[1;32m    102\u001b[0m     name_pose_dict[obj\u001b[39m.\u001b[39mname] \u001b[39m=\u001b[39m (x, y, z), (qw, qx, qy, qz)\n\u001b[0;32m--> 103\u001b[0m \u001b[39mself\u001b[39;49m\u001b[39m.\u001b[39;49mviewer\u001b[39m.\u001b[39;49mmove_nodes(group, name_pose_dict)\n",
      "File \u001b[0;32m~/Python/env_robot/lib/python3.10/site-packages/panda3d_viewer/viewer.py:91\u001b[0m, in \u001b[0;36mViewer.move_nodes\u001b[0;34m(self, root_path, name_pose_dict)\u001b[0m\n\u001b[1;32m     84\u001b[0m \u001b[39mdef\u001b[39;00m \u001b[39mmove_nodes\u001b[39m(\u001b[39mself\u001b[39m, root_path, name_pose_dict):\n\u001b[1;32m     85\u001b[0m     \u001b[39m\"\"\"Set a pose for nodes within a group.\u001b[39;00m\n\u001b[1;32m     86\u001b[0m \n\u001b[1;32m     87\u001b[0m \u001b[39m    Arguments:\u001b[39;00m\n\u001b[1;32m     88\u001b[0m \u001b[39m        root_path {str} -- path to the group's root node\u001b[39;00m\n\u001b[1;32m     89\u001b[0m \u001b[39m        name_pose_dict {dict} -- {node_name : (pos, quat) | mat44} dictionary\u001b[39;00m\n\u001b[1;32m     90\u001b[0m \u001b[39m    \"\"\"\u001b[39;00m\n\u001b[0;32m---> 91\u001b[0m     \u001b[39mself\u001b[39;49m\u001b[39m.\u001b[39;49m_app\u001b[39m.\u001b[39;49mmove_nodes(root_path, name_pose_dict)\n",
      "File \u001b[0;32m~/Python/env_robot/lib/python3.10/site-packages/panda3d_viewer/viewer_proxy.py:42\u001b[0m, in \u001b[0;36mViewerAppProxy.__getattr__.<locals>._send\u001b[0;34m(*args, **kwargs)\u001b[0m\n\u001b[1;32m     40\u001b[0m reply \u001b[39m=\u001b[39m \u001b[39mself\u001b[39m\u001b[39m.\u001b[39m_host_conn\u001b[39m.\u001b[39mrecv()\n\u001b[1;32m     41\u001b[0m \u001b[39mif\u001b[39;00m \u001b[39misinstance\u001b[39m(reply, \u001b[39mException\u001b[39;00m):\n\u001b[0;32m---> 42\u001b[0m     \u001b[39mraise\u001b[39;00m reply\n\u001b[1;32m     43\u001b[0m \u001b[39mreturn\u001b[39;00m reply\n",
      "\u001b[0;31mViewerClosedError\u001b[0m: User closed the main window"
     ]
    }
   ],
   "source": [
    "from panda3d_viewer import ViewerClosedError\n",
    "from pinocchio.visualize.panda3d_visualizer import Panda3dVisualizer\n",
    "\n",
    "robot.setVisualizer(Panda3dVisualizer())\n",
    "robot.initViewer()\n",
    "robot.loadViewerModel(group_name='EXO_TAO', color=(1, 1, 1, 1))\n",
    "\n",
    "ts = 1/200\n",
    "\n",
    "t = np.linspace(0,10,int(10/ts))\n",
    "traj = np.empty((4,t.shape[0]))\n",
    "\n",
    "for i,t_cur in enumerate(t):\n",
    "    traj[0][i] = np.sin(2*np.pi*t_cur)\n",
    "    traj[1][i] = np.sin(2*np.pi*t_cur*2)\n",
    "    traj[2][i] = np.sin(2*np.pi*t_cur)\n",
    "    traj[3][i] = np.sin(2*np.pi*t_cur*2)\n",
    "\n",
    "    # robot.display(traj[:,i])\n",
    "\n",
    "robot.play(traj[:,::2],1/100)\n"
   ]
  },
  {
   "cell_type": "code",
   "execution_count": 167,
   "metadata": {},
   "outputs": [
    {
     "data": {
      "text/plain": [
       "2000.0"
      ]
     },
     "execution_count": 167,
     "metadata": {},
     "output_type": "execute_result"
    }
   ],
   "source": [
    "10/ts\n"
   ]
  }
 ],
 "metadata": {
  "kernelspec": {
   "display_name": "Python 3.10.6 ('env_robot')",
   "language": "python",
   "name": "python3"
  },
  "language_info": {
   "codemirror_mode": {
    "name": "ipython",
    "version": 3
   },
   "file_extension": ".py",
   "mimetype": "text/x-python",
   "name": "python",
   "nbconvert_exporter": "python",
   "pygments_lexer": "ipython3",
   "version": "3.10.6"
  },
  "orig_nbformat": 4,
  "vscode": {
   "interpreter": {
    "hash": "40b974603b1ff0f565499a6dc1829967c96b73c5a0c12b592db40a3c31e8ed61"
   }
  }
 },
 "nbformat": 4,
 "nbformat_minor": 2
}
