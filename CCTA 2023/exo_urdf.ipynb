{
 "cells": [
  {
   "cell_type": "code",
   "execution_count": 21,
   "metadata": {},
   "outputs": [
    {
     "name": "stdout",
     "output_type": "stream",
     "text": [
      "model name: EXO_TAO\n",
      "q: [-0.53901383  0.6294827 ]\n",
      "universe                 :  0.00  0.00  0.00\n",
      "r_bar                    :  0.00  0.00  0.84\n",
      "r_knee                   :  0.24 -0.22  0.48\n"
     ]
    }
   ],
   "source": [
    "import pinocchio as pin\n",
    "\n",
    " \n",
    "urdf_filename = \"Exo/description.urdf\"\n",
    " \n",
    "model    = pin.buildModelFromUrdf(urdf_filename)\n",
    "\n",
    "print('model name: ' + model.name)\n",
    " \n",
    "# Create data required by the algorithms\n",
    "data     = model.createData()\n",
    " \n",
    "# Sample a random configuration\n",
    "q        = pin.randomConfiguration(model)\n",
    "print('q: %s' % q.T)\n",
    " \n",
    "# Perform the forward kinematics over the kinematic tree\n",
    "pin.forwardKinematics(model,data,q)\n",
    "\n",
    "\n",
    "\n",
    "# Print out the placement of each joint of the kinematic tree\n",
    "for name, oMi in zip(model.names, data.oMi):\n",
    "    print((\"{:<24} : {: .2f} {: .2f} {: .2f}\"\n",
    "          .format( name, *oMi.translation.T.flat )))"
   ]
  },
  {
   "cell_type": "code",
   "execution_count": 31,
   "metadata": {},
   "outputs": [
    {
     "name": "stdout",
     "output_type": "stream",
     "text": [
      "[[0. 0.]\n",
      " [0. 0.]]\n"
     ]
    }
   ],
   "source": [
    "M = pin.crba(model,data,q)\n",
    "\n",
    "print(M)"
   ]
  }
 ],
 "metadata": {
  "kernelspec": {
   "display_name": "Python 3.10.6 ('env_robot')",
   "language": "python",
   "name": "python3"
  },
  "language_info": {
   "codemirror_mode": {
    "name": "ipython",
    "version": 3
   },
   "file_extension": ".py",
   "mimetype": "text/x-python",
   "name": "python",
   "nbconvert_exporter": "python",
   "pygments_lexer": "ipython3",
   "version": "3.10.6"
  },
  "orig_nbformat": 4,
  "vscode": {
   "interpreter": {
    "hash": "7f144224a730efb5801b926e79b6069c2c530759e5578718ec165151cd646f51"
   }
  }
 },
 "nbformat": 4,
 "nbformat_minor": 2
}
