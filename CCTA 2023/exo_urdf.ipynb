{
 "cells": [
  {
   "cell_type": "code",
   "execution_count": 121,
   "metadata": {},
   "outputs": [
    {
     "name": "stdout",
     "output_type": "stream",
     "text": [
      "model name: EXO_TAO\n"
     ]
    }
   ],
   "source": [
    "import pinocchio as pin\n",
    "from pinocchio.utils import *\n",
    "import numpy as np\n",
    "\n",
    "import matplotlib.pyplot as plt\n",
    "\n",
    "import time\n",
    "from panda3d_viewer import ViewerClosedError\n",
    "from pinocchio.visualize.panda3d_visualizer import Panda3dVisualizer\n",
    "\n",
    "robot = pin.RobotWrapper()\n",
    "robot.initFromURDF(\"Exo/description_v1.urdf\")\n",
    "\n",
    "print('model name: ' + robot.model.name)\n",
    " \n",
    "# Sample a random configuration\n",
    "q         = zero(robot.model.nv) ; q = np.array([0,0.2,0,0])\n",
    "qd        = zero(robot.model.nv)\n",
    "qdd       = zero(robot.model.nv)\n",
    "\n",
    "q_des     = zero(robot.model.nv)\n",
    "qd_des    = zero(robot.model.nv)\n",
    "qdd_des   = zero(robot.model.nv)\n",
    "\n",
    "tau       = zero(robot.model.nv)\n",
    "\n",
    "robot.forwardKinematics(q)\n",
    "\n",
    "robot.forwardKinematics(q)\n",
    "\n",
    "robot.setVisualizer(Panda3dVisualizer())\n",
    "robot.initViewer()\n",
    "robot.loadViewerModel(group_name='EXO_TAO', color=(1, 1, 1, 1))\n",
    "\n",
    "dt = 1/200\n",
    "\n",
    "\n",
    "t = np.linspace(0,10,int(10/dt))\n",
    "log_q       = np.empty((4,t.shape[0]))\n",
    "log_q_des   = np.empty((4,t.shape[0]))\n",
    "\n",
    "for i,t_cur in enumerate(t):\n",
    "    q_des[0] = 0;np.sin(2*np.pi*t_cur)\n",
    "    q_des[1] = 0;np.sin(2*np.pi*t_cur*2)\n",
    "    q_des[2] = 0;np.sin(2*np.pi*t_cur)\n",
    "    q_des[3] = 0;np.sin(2*np.pi*t_cur*2)\n",
    "\n",
    "    qd_des[0] = 0;-np.sin(2*np.pi*t_cur)\n",
    "    qd_des[1] = 0;np.sin(2*np.pi*t_cur*2)\n",
    "    qd_des[2] = 0;np.sin(2*np.pi*t_cur)\n",
    "    qd_des[3] = 0;np.sin(2*np.pi*t_cur*2)    \n",
    "\n",
    "    \n",
    "    robot.nle(q,qd)\n",
    "    robot.mass(q)       \n",
    "    robot.computeJointJacobians(q)\n",
    "\n",
    "    pin.computeAllTerms(robot.model,robot.data,q,qd)\n",
    "    \n",
    "    M = robot.mass(q)\n",
    "    h = robot.nle(q, qd)          \n",
    "    g = robot.gravity(q)\n",
    "    \n",
    "    tau = 100*(q_des-q) + 1*(qd_des-qd)\n",
    "    \n",
    "    M_inv = np.linalg.inv(M)\n",
    "    \n",
    "    qdd = M_inv.dot(tau-h)  \n",
    "    qd = qd + qdd*dt  \n",
    "    q = q + dt*qd  + 0.5*dt*dt*qdd\n",
    "\n",
    "    log_q      [:,i] = q\n",
    "    log_q_des  [:,i] = q_des\n",
    "\n",
    "try:\n",
    "    robot.play(log_q[:,::2],2*dt)\n",
    "except:\n",
    "    None\n",
    "\n"
   ]
  },
  {
   "cell_type": "code",
   "execution_count": null,
   "metadata": {},
   "outputs": [],
   "source": []
  }
 ],
 "metadata": {
  "kernelspec": {
   "display_name": "Python 3.10.6 ('env_robot')",
   "language": "python",
   "name": "python3"
  },
  "language_info": {
   "codemirror_mode": {
    "name": "ipython",
    "version": 3
   },
   "file_extension": ".py",
   "mimetype": "text/x-python",
   "name": "python",
   "nbconvert_exporter": "python",
   "pygments_lexer": "ipython3",
   "version": "3.10.6"
  },
  "orig_nbformat": 4,
  "vscode": {
   "interpreter": {
    "hash": "7f144224a730efb5801b926e79b6069c2c530759e5578718ec165151cd646f51"
   }
  }
 },
 "nbformat": 4,
 "nbformat_minor": 2
}
